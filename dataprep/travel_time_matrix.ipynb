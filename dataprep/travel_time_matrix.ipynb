{
 "cells": [
  {
   "cell_type": "markdown",
   "metadata": {
    "pycharm": {
     "name": "#%% md\n"
    }
   },
   "source": [
    "# Generate Travel Time Matrix"
   ]
  },
  {
   "cell_type": "code",
   "execution_count": 1,
   "metadata": {},
   "outputs": [
    {
     "name": "stdout",
     "output_type": "stream",
     "text": [
      "/Volumes/external_drive/Code/paratransit-mdp\n"
     ]
    }
   ],
   "source": [
    "import geopandas as gpd\n",
    "import pandas as pd\n",
    "import os\n",
    "import datetime as dt\n",
    "import time\n",
    "from copy import deepcopy\n",
    "import numpy as np\n",
    "import osmnx as ox\n",
    "import networkx as nx\n",
    "import scipy\n",
    "import sys\n",
    "import pickle\n",
    "import math\n",
    "\n",
    "pd.set_option('display.max_columns', None)\n",
    "pd.set_option('display.max_rows', None)\n",
    "\n",
    "os.chdir(os.path.join(os.getcwd(), \"..\"))\n",
    "print(os.getcwd())"
   ]
  },
  {
   "cell_type": "code",
   "execution_count": 2,
   "metadata": {
    "pycharm": {
     "name": "#%%\n"
    }
   },
   "outputs": [],
   "source": [
    "# Global VARS\n",
    "\n",
    "DATA_DIR = os.path.join(os.getcwd(), \"data\")\n",
    "OUTPUT_DIR = os.path.join(os.getcwd(), \"data\", \"travel_time_matrix\")"
   ]
  },
  {
   "cell_type": "code",
   "execution_count": 45,
   "metadata": {},
   "outputs": [],
   "source": [
    "def osmnx_routing_graph(addr='Chattanooga, Tennessee', \n",
    "                        buffer_dist=500, \n",
    "                        strongly_connected=True, \n",
    "                        integer_edge_weights=True):\n",
    "    \"\"\"\n",
    "    Uses OSMNX to get OSM routing graph for a city. Returns the routing graph (networkx)\n",
    "    as well as the nodes and edges as pandas DataFrames. buffer_dist will expand the\n",
    "    OSM network by buffer_dist (meters) in all directions. If strongly_connected then return\n",
    "    the largest strongly connected component, if false return largest weakly connected component.\n",
    "    If integer_edge_weights, then edge weights (travel time) is rounded up to nearest integer.\n",
    "    \n",
    "    :param addr: str\n",
    "    :param buffer_dist: int\n",
    "    :param strongly_connected: bool\n",
    "    :param integer_edge_weights: bool\n",
    "    :return: networkx.MultiDiGraph, pandas.DataFrame, pandas.DataFrame\n",
    "    \"\"\"\n",
    "    # get the OSM graph\n",
    "    G = ox.graph_from_place('Chattanooga, Tennessee',\n",
    "                            network_type='drive',\n",
    "                            simplify=True,\n",
    "                            truncate_by_edge=True,\n",
    "                            retain_all=False,\n",
    "                            buffer_dist=buffer_dist)\n",
    "    G = ox.utils_graph.get_largest_component(G, strongly=strongly_connected)\n",
    "\n",
    "    # add edge speeds\n",
    "    G = ox.speed.add_edge_speeds(G, fallback=40.2, precision=6)\n",
    "\n",
    "    # add edge travel time\n",
    "    G = ox.speed.add_edge_travel_times(G, precision=6)\n",
    "    if integer_edge_weights:\n",
    "        for n1, n2, k in G.edges(keys=True):\n",
    "            G[n1][n2][k]['travel_time'] = math.ceil(G[n1][n2][k]['travel_time'])\n",
    "\n",
    "\n",
    "    nodes, edges = ox.utils_graph.graph_to_gdfs(G)\n",
    "\n",
    "    # format nodes\n",
    "    nodes['osmid'] = nodes.index\n",
    "    nodes.index = range(len(nodes))\n",
    "    nodes['node_id'] = nodes.index\n",
    "    nodes['lon'] = nodes['x']\n",
    "    nodes['lat'] = nodes['y']\n",
    "    nodes = nodes[['node_id', 'osmid', 'lat', 'lon']]\n",
    "    nodes['node_id'] = nodes['node_id'].astype(int)\n",
    "    nodes['osmid'] = nodes['osmid'].astype(int)\n",
    "    nodes['lat'] = nodes['lat'].astype(float)\n",
    "    nodes['lon'] = nodes['lon'].astype(float)\n",
    "\n",
    "    # format edges\n",
    "    edges = edges.reset_index()\n",
    "    edges['source_osmid'] = edges['u']\n",
    "    edges['target_osmid'] = edges['v']\n",
    "    edges['source_node'] = edges['source_osmid'].apply(lambda x: nodes.loc[nodes['osmid']==x, 'node_id'].values[0])\n",
    "    edges['target_node'] = edges['target_osmid'].apply(lambda x: nodes.loc[nodes['osmid']==x, 'node_id'].values[0])\n",
    "    edges = edges.sort_values(by=['travel_time'])\n",
    "    edges = edges.drop_duplicates(subset=['source_node', 'target_node'])\n",
    "    edges = edges[['source_osmid', 'target_osmid', 'source_node', 'target_node', 'travel_time']]\n",
    "    edges['source_osmid'] = edges['source_osmid'].astype(int)\n",
    "    edges['target_osmid'] = edges['target_osmid'].astype(int)\n",
    "    edges['source_node'] = edges['source_node'].astype(int)\n",
    "    edges['target_node'] = edges['target_node'].astype(int)\n",
    "    edges['travel_time'] = edges['travel_time'].astype(int)\n",
    "    # format edge types\n",
    "    print(f\"Number of nodes: {len(nodes)}, number of edges: {len(edges)}\")\n",
    "    return G, nodes, edges\n",
    "\n",
    "\n",
    "def osmnx_travel_time_matrix_from_graph(G, nodes, matrix_as_int=True):\n",
    "    \"\"\"\n",
    "    Extracts a 2-dimensional travel time matrix from an osmnx routing graph.\n",
    "    If matrix_as_int is True then returns a numpy array of type int32, else float32.\n",
    "    :param G: networkx\n",
    "    :param nodes: pandas.DataFrame\n",
    "    :param matrix_as_int: bool\n",
    "    :return: numpy.array\n",
    "    \"\"\"\n",
    "    nodelist = list(nodes['osmid'])\n",
    "    print(f\"len of nodelist: {len(nodelist)}\")\n",
    "    if matrix_as_int:\n",
    "        results = np.full((len(nodelist), len(nodelist)), -1, dtype=np.int32)\n",
    "    else:\n",
    "        results = np.full((len(nodelist), len(nodelist)), -1, dtype=np.float32)\n",
    "\n",
    "    length = nx.algorithms.shortest_paths.weighted.all_pairs_dijkstra_path_length(G, weight='travel_time')\n",
    "    start_time = time.time()\n",
    "    for source in length:\n",
    "        source_node = source[0]\n",
    "        source_node_index = nodelist.index(source_node)\n",
    "        for target_node_index in range(len(nodelist)):\n",
    "            target_node = nodelist[target_node_index]\n",
    "            if target_node in source[1].keys():\n",
    "                results[source_node_index, target_node_index] = source[1][target_node]\n",
    "        if (source_node_index % 500) == 0:\n",
    "            cur_runtime = time.time() - start_time\n",
    "            print(f\"Done with {source_node_index} nodes in {cur_runtime} seconds\")\n",
    "    travel_time_matrix = results.astype(int)\n",
    "    num_neg = np.sum(travel_time_matrix < 0)\n",
    "    perc_neg = num_neg / (len(nodelist) * len(nodelist))\n",
    "    print(f\"There are {num_neg} negative travel times in travel_time_matrix which is {perc_neg} percent of all entries.\")\n",
    "    return travel_time_matrix\n",
    "\n"
   ]
  },
  {
   "cell_type": "code",
   "execution_count": 46,
   "metadata": {},
   "outputs": [
    {
     "name": "stdout",
     "output_type": "stream",
     "text": [
      "Number of nodes: 9850, number of edges: 25322\n"
     ]
    }
   ],
   "source": [
    "G, nodes, edges = osmnx_routing_graph(addr='Chattanooga, Tennessee', \n",
    "                        buffer_dist=500, \n",
    "                        strongly_connected=True, \n",
    "                        integer_edge_weights=True)"
   ]
  },
  {
   "cell_type": "code",
   "execution_count": 47,
   "metadata": {},
   "outputs": [
    {
     "name": "stdout",
     "output_type": "stream",
     "text": [
      "len of nodelist: 9850\n",
      "Done with 0 nodes in 0.13228297233581543 seconds\n",
      "Done with 500 nodes in 43.02166295051575 seconds\n",
      "Done with 1000 nodes in 89.3054358959198 seconds\n",
      "Done with 1500 nodes in 129.72183203697205 seconds\n",
      "Done with 2000 nodes in 169.97513890266418 seconds\n",
      "Done with 2500 nodes in 211.71518278121948 seconds\n",
      "Done with 3000 nodes in 252.64689993858337 seconds\n",
      "Done with 3500 nodes in 291.0017879009247 seconds\n",
      "Done with 4000 nodes in 328.02022409439087 seconds\n",
      "Done with 4500 nodes in 365.3086190223694 seconds\n",
      "Done with 5000 nodes in 402.6718719005585 seconds\n",
      "Done with 5500 nodes in 439.9815459251404 seconds\n",
      "Done with 6000 nodes in 480.10015177726746 seconds\n",
      "Done with 6500 nodes in 576.7290308475494 seconds\n",
      "Done with 7000 nodes in 687.2298979759216 seconds\n",
      "Done with 7500 nodes in 743.9667088985443 seconds\n",
      "Done with 8000 nodes in 790.573832988739 seconds\n",
      "Done with 8500 nodes in 833.9086956977844 seconds\n",
      "Done with 9000 nodes in 880.880108833313 seconds\n",
      "Done with 9500 nodes in 924.5328319072723 seconds\n",
      "There are 0 negative travel times in travel_time_matrix which is 0.0 percent of all entries.\n"
     ]
    }
   ],
   "source": [
    "travel_time_matrix = osmnx_travel_time_matrix_from_graph(G, nodes, matrix_as_int=True)"
   ]
  },
  {
   "cell_type": "code",
   "execution_count": 48,
   "metadata": {
    "pycharm": {
     "name": "#%%\n"
    }
   },
   "outputs": [],
   "source": [
    "# save travel_time_matrix, nodes and edges\n",
    "\n",
    "\n",
    "file_path = os.path.join(OUTPUT_DIR, 'travel_time_matrix.csv')\n",
    "np.savetxt(file_path, travel_time_matrix, fmt='%i', delimiter=\",\")\n",
    "\n",
    "file_path = os.path.join(OUTPUT_DIR, 'nodes.csv')\n",
    "nodes.to_csv(file_path, index=False)\n",
    "\n",
    "file_path = os.path.join(OUTPUT_DIR, 'edges.csv')\n",
    "edges.to_csv(file_path, index=False)"
   ]
  },
  {
   "cell_type": "code",
   "execution_count": null,
   "metadata": {},
   "outputs": [],
   "source": [
    "# format and save for PNAS Simulator Format\n",
    "\n",
    "nodes['node_id'] = nodes['node_id'].apply(lambda x: x + 1)\n",
    "nodes = nodes[['node_id', 'lat', 'lon']]\n",
    "file_path = os.path.join(OUTPUT_DIR, 'nodes_pnas.csv')\n",
    "nodes.to_csv(file_path, header=False, index=False)\n",
    "\n",
    "edges['source_node'] = edges['source_node'].apply(lambda x: x + 1)\n",
    "edges['target_node'] = edges['target_node'].apply(lambda x: x + 1)\n",
    "edges['travel_time'] = edges['travel_time'].apply(lambda x: math.ceil(x))\n",
    "edges = edges[['source_node', 'target_node', 'travel_time']]\n",
    "file_path = os.path.join(OUTPUT_DIR, 'edges_pnas.csv')\n",
    "edges.to_csv(file_path, header=False, index=False)"
   ]
  },
  {
   "cell_type": "markdown",
   "metadata": {},
   "source": [
    "# Testing"
   ]
  },
  {
   "cell_type": "code",
   "execution_count": null,
   "metadata": {},
   "outputs": [],
   "source": [
    "counter = 0\n",
    "val = None\n",
    "loc = None\n",
    "for r in range(len(travel_time_matrix)):\n",
    "    for c in range(len(travel_time_matrix[0])):\n",
    "        if travel_time_matrix[r, c] < 0:\n",
    "            counter += 1\n",
    "            val = travel_time_matrix[r, c]\n",
    "            loc = [r, c]\n",
    "print(counter / (len(travel_time_matrix) * len(travel_time_matrix)))\n",
    "print(val)\n",
    "print(loc)"
   ]
  },
  {
   "cell_type": "code",
   "execution_count": null,
   "metadata": {},
   "outputs": [],
   "source": [
    "# test one with a path\n",
    "\n",
    "origin = 700\n",
    "destination = 900\n",
    "\n",
    "print(travel_time_matrix[origin, destination])\n",
    "\n",
    "origin_osmid = nodes[nodes['node_id']==origin].iloc[0]['osmid']\n",
    "destination_osmid = nodes[nodes['node_id']==destination].iloc[0]['osmid']\n",
    "\n",
    "nx.shortest_path_length(G, origin_osmid, destination_osmid, weight='travel_time')"
   ]
  },
  {
   "cell_type": "code",
   "execution_count": null,
   "metadata": {},
   "outputs": [],
   "source": [
    "# test one without a path\n",
    "\n",
    "origin = 10565\n",
    "destination = 10134\n",
    "\n",
    "print(travel_time_matrix[origin, destination])\n",
    "\n",
    "origin_osmid = nodes[nodes['node_id']==origin].iloc[0]['osmid']\n",
    "destination_osmid = nodes[nodes['node_id']==destination].iloc[0]['osmid']\n",
    "\n",
    "nx.shortest_path_length(G, origin_osmid, destination_osmid, weight='travel_time')"
   ]
  },
  {
   "cell_type": "code",
   "execution_count": null,
   "metadata": {},
   "outputs": [],
   "source": []
  }
 ],
 "metadata": {
  "kernelspec": {
   "display_name": "Python 3 (ipykernel)",
   "language": "python",
   "name": "python3"
  },
  "language_info": {
   "codemirror_mode": {
    "name": "ipython",
    "version": 3
   },
   "file_extension": ".py",
   "mimetype": "text/x-python",
   "name": "python",
   "nbconvert_exporter": "python",
   "pygments_lexer": "ipython3",
   "version": "3.8.5"
  }
 },
 "nbformat": 4,
 "nbformat_minor": 4
}
